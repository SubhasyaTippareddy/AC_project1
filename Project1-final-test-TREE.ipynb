{
 "cells": [
  {
   "cell_type": "code",
   "execution_count": 1,
   "metadata": {},
   "outputs": [],
   "source": [
    "import sys, os\n",
    "import numpy as np\n",
    "from math import acos\n",
    "import math\n",
    "from sklearn.model_selection import KFold\n",
    "from sklearn.ensemble import RandomForestClassifier\n",
    "from sklearn.svm import LinearSVC\n",
    "from sklearn.tree import DecisionTreeClassifier\n",
    "from sklearn.metrics import accuracy_score, precision_score, recall_score, confusion_matrix"
   ]
  },
  {
   "cell_type": "code",
   "execution_count": 2,
   "metadata": {},
   "outputs": [],
   "source": [
    "def load_data(path):\n",
    "    X=[]\n",
    "    Y=[]\n",
    "    # 101 faces - sub folders, 6 emotions - Angry, Disgust, Fear, Happy, Sad, Surprise\n",
    "    for face_dir in os.listdir(path):\n",
    "        face_path = path+face_dir+'/'\n",
    "        if os.path.isdir(face_path):\n",
    "            for label in os.listdir(face_path):\n",
    "                emotion_path = face_path+label+'/'\n",
    "                for file in os.listdir(emotion_path):\n",
    "                    if file.endswith(\".bnd\") or file.endswith(\".landmark\"):\n",
    "                        file_path = emotion_path+file\n",
    "                        points = np.loadtxt(emotion_path+file, usecols=(1, 2, 3), encoding='utf-8') #x,y,z\n",
    "                        X.append(points)\n",
    "                        Y.append(label)\n",
    "    X = np.array(X)\n",
    "    Y = np.array(Y)\n",
    "    X = X.reshape(X.shape[0], -1)    \n",
    "    return X,Y  \n",
    "\n",
    "def translate_data(X):\n",
    "    X_translated = []\n",
    "    for face in X:\n",
    "        mean = np.mean(face)\n",
    "        translated_face = face - mean\n",
    "        X_translated.append(translated_face)\n",
    "    X_translated = np.array(X_translated)\n",
    "    return X_translated\n",
    "\n",
    "def rotate_data(X, axis):\n",
    "    pi=round(2*acos(0.0), 3)\n",
    "    sin_angle = math.sin(pi) #approx 0\n",
    "    cos_angle = math.cos(pi) #approx -1\n",
    "    \n",
    "    rotated_X=[]\n",
    "    if axis == 'x':\n",
    "        rotation_matrix = np.array([[1, 0, 0], [0, cos_angle, sin_angle], [0, -sin_angle, cos_angle ]])\n",
    "    elif axis == 'y':\n",
    "        rotation_matrix = np.array([[cos_angle, 0, -sin_angle], [0, 1, 0], [sin_angle, 0, cos_angle]])\n",
    "    elif axis == 'z':\n",
    "        rotation_matrix = np.array([[cos_angle, sin_angle, 0], [-sin_angle, cos_angle, 0], [0, 0, 1]])\n",
    "    else:\n",
    "        raise ValueError(\"Axis must be 'x', 'y', or 'z'\")\n",
    "    for face in X:\n",
    "        rotated_data = np.dot(face.reshape(-1, 3), rotation_matrix.T).reshape(face.shape)\n",
    "        rotated_X.append(rotated_data)\n",
    "    rotated_X = np.array(rotated_X) \n",
    "    return rotated_X"
   ]
  },
  {
   "cell_type": "code",
   "execution_count": 3,
   "metadata": {},
   "outputs": [],
   "source": [
    "from sklearn.svm import SVC\n",
    "def classification(X,Y, classifier_type='RF'):\n",
    "    if classifier_type == 'RF':\n",
    "        clf = RandomForestClassifier()\n",
    "    elif classifier_type == 'SVM':\n",
    "        clf = SVC()\n",
    "    elif classifier_type == 'TREE':\n",
    "        clf = DecisionTreeClassifier()\n",
    "\n",
    "    Y_pred = []\n",
    "    test_indices = []\n",
    "    cv = KFold(n_splits=10)\n",
    "    for (train,test) in cv.split(X,Y):\n",
    "        clf.fit(X[train],Y[train])\n",
    "        Y_pred.append(clf.predict(X[test]))\n",
    "        test_indices.append(test)\n",
    "    \n",
    "    return Y,Y_pred,test_indices\n",
    "\n",
    "def model_evaluation(pred, indices, y):\n",
    "    finalPredictions = []\n",
    "    groundTruth = []\n",
    "    for p in pred:\n",
    "        finalPredictions.extend(p)\n",
    "    for i in indices:\n",
    "        groundTruth.extend(y[i])\n",
    "    print(confusion_matrix(finalPredictions, groundTruth))\n",
    "    print(\"Precision: \", precision_score(groundTruth, finalPredictions, average='macro'))\n",
    "    print(\"Recall: \", recall_score(groundTruth, finalPredictions, average='macro'))\n",
    "    print(\"Accuracy: \" , accuracy_score(groundTruth, finalPredictions))\n"
   ]
  },
  {
   "cell_type": "code",
   "execution_count": 4,
   "metadata": {},
   "outputs": [],
   "source": [
    "path = './BU4DFE_BND_V1.1/'\n",
    "#path = args[3]\n",
    "X,Y = load_data(path)\n",
    "X_1,Y_1 = X,Y\n"
   ]
  },
  {
   "cell_type": "code",
   "execution_count": 5,
   "metadata": {},
   "outputs": [
    {
     "name": "stdout",
     "output_type": "stream",
     "text": [
      "Classifier - Support Vector Machine\n"
     ]
    }
   ],
   "source": [
    "classifier = 'SVM'\n",
    "data_type = 'o'\n",
    "y_original, y_pred, indices = classification(X,Y, classifier_type=classifier)\n",
    "print(\"Following are the evaluation metrics for\", classifier,\"classifier and\", data_type, \"data type\")\n",
    "#Performing Evaluation\n",
    "model_evaluation(y_pred, indices, y_original)"
   ]
  },
  {
   "cell_type": "code",
   "execution_count": null,
   "metadata": {},
   "outputs": [
    {
     "name": "stdout",
     "output_type": "stream",
     "text": [
      "Following are the evaluation metrics for TREE classifier and x data type\n",
      "[[3600 1593 1527 1462 1979  915]\n",
      " [1601 2667 1868 1241 1680 1197]\n",
      " [1355 1346 2074 1415 1361 1516]\n",
      " [ 687 1973 1529 3724 1765  884]\n",
      " [1727  941 1360 1042 2108  903]\n",
      " [1154 1651 1686 1089 1249 4643]]\n",
      "Precision:  0.30533839783987543\n",
      "Recall:  0.3111962599365155\n",
      "Accuracy:  0.31094658910629297\n"
     ]
    }
   ],
   "source": [
    "classifier = 'SVM'\n",
    "data_type = 'x'\n",
    "X = rotate_data(X_1,'x')\n",
    "#X = translate_data(X)\n",
    "y_original, y_pred, indices = classification(X,Y, classifier_type=classifier)\n",
    "print(\"Following are the evaluation metrics for\", classifier,\"classifier and\", data_type, \"data type\")\n",
    "#Performing Evaluation\n",
    "model_evaluation(y_pred, indices, y_original)"
   ]
  },
  {
   "cell_type": "code",
   "execution_count": null,
   "metadata": {},
   "outputs": [
    {
     "name": "stdout",
     "output_type": "stream",
     "text": [
      "Following are the evaluation metrics for TREE classifier and y data type\n",
      "[[3358 1795 1736 1816 1727 1059]\n",
      " [1732 2412 1667 1557 1470 1318]\n",
      " [1493 1372 1865 1476 1321 1155]\n",
      " [ 709 1704 1497 3477 2021  819]\n",
      " [1448  885 1263  560 2101  650]\n",
      " [1384 2003 2016 1087 1502 5057]]\n",
      "Precision:  0.2960403113886501\n",
      "Recall:  0.30218307253336657\n",
      "Accuracy:  0.30192358540454783\n"
     ]
    }
   ],
   "source": [
    "classifier = 'SVM'\n",
    "data_type = 'y'\n",
    "X = rotate_data(X_1,'y')\n",
    "#X = translate_data(X)\n",
    "y_original, y_pred, indices = classification(X,Y, classifier_type=classifier)\n",
    "print(\"Following are the evaluation metrics for\", classifier,\"classifier and\", data_type, \"data type\")\n",
    "#Performing Evaluation\n",
    "model_evaluation(y_pred, indices, y_original)"
   ]
  },
  {
   "cell_type": "code",
   "execution_count": null,
   "metadata": {},
   "outputs": [
    {
     "name": "stdout",
     "output_type": "stream",
     "text": [
      "Following are the evaluation metrics for TREE classifier and z data type\n",
      "[[3409 1854 1412 1608 1565  964]\n",
      " [1635 2247 1713 1522 1395 1174]\n",
      " [1398 1400 1946 1324 1521 1101]\n",
      " [ 901 1863 1511 3359 1774  810]\n",
      " [1422 1199 1511  811 2345  827]\n",
      " [1359 1608 1951 1349 1542 5182]]\n",
      "Precision:  0.2979689785897864\n",
      "Recall:  0.3057720392003615\n",
      "Accuracy:  0.30552617662612375\n"
     ]
    }
   ],
   "source": [
    "classifier = 'SVM'\n",
    "data_type = 'z'\n",
    "X = rotate_data(X_1,'z')\n",
    "#X = translate_data(X)\n",
    "y_original, y_pred, indices = classification(X,Y, classifier_type=classifier)\n",
    "print(\"Following are the evaluation metrics for\", classifier,\"classifier and\", data_type, \"data type\")\n",
    "#Performing Evaluation\n",
    "model_evaluation(y_pred, indices, y_original)"
   ]
  },
  {
   "cell_type": "code",
   "execution_count": null,
   "metadata": {},
   "outputs": [
    {
     "name": "stdout",
     "output_type": "stream",
     "text": [
      "Following are the evaluation metrics for TREE classifier and t data type\n",
      "[[2728 1463 1275 1345 1947  826]\n",
      " [2082 2648 1835 1629 1707 1133]\n",
      " [1305 1510 2567 1576 1449 1546]\n",
      " [1256 1370 1442 2979  846  889]\n",
      " [1279 1325  740  720 2430  835]\n",
      " [1474 1855 2185 1724 1763 4829]]\n",
      "Precision:  0.30041389445197786\n",
      "Recall:  0.3006336299030599\n",
      "Accuracy:  0.3004528027498678\n"
     ]
    }
   ],
   "source": [
    "classifier = 'SVM'\n",
    "data_type = 't'\n",
    "X = translate_data(X_1)\n",
    "y_original, y_pred, indices = classification(X,Y, classifier_type=classifier)\n",
    "print(\"Following are the evaluation metrics for\", classifier,\"classifier and\", data_type, \"data type\")\n",
    "#Performing Evaluation\n",
    "model_evaluation(y_pred, indices, y_original)"
   ]
  },
  {
   "cell_type": "code",
   "execution_count": null,
   "metadata": {},
   "outputs": [],
   "source": []
  }
 ],
 "metadata": {
  "kernelspec": {
   "display_name": "Python 3",
   "language": "python",
   "name": "python3"
  },
  "language_info": {
   "codemirror_mode": {
    "name": "ipython",
    "version": 3
   },
   "file_extension": ".py",
   "mimetype": "text/x-python",
   "name": "python",
   "nbconvert_exporter": "python",
   "pygments_lexer": "ipython3",
   "version": "3.11.8"
  }
 },
 "nbformat": 4,
 "nbformat_minor": 2
}
