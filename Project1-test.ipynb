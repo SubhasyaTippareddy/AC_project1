{
 "cells": [
  {
   "cell_type": "code",
   "execution_count": 1,
   "metadata": {},
   "outputs": [],
   "source": [
    "import sys\n",
    "import os\n",
    "import numpy as np\n",
    "\n",
    "path = 'FacialLandmarks/BU4DFE_BND_V1.1/'\n",
    "X=[]\n",
    "Y=[]\n",
    "# 101 faces - sub folders, 6 emotions - Angry, Disgust, Fear, Happy, Sad, Surprise\n",
    "for face_dir in os.listdir(path)[1:]:\n",
    "    face_path = path+face_dir+'/'\n",
    "    for label in os.listdir(face_path):\n",
    "        emotion_path = face_path+label+'/'\n",
    "        for file in os.listdir(emotion_path):\n",
    "            if file.endswith(\".bnd\") or file.endswith(\".landmark\"):\n",
    "                file_path = emotion_path+file\n",
    "                points = np.loadtxt(emotion_path+file, usecols=(1, 2, 3), encoding='utf-8') #x,y,z\n",
    "                X.append(points)\n",
    "                Y.append(label)\n",
    "X = np.array(X)\n",
    "Y = np.array(Y)\n",
    "X = X.reshape(X.shape[0], -1)\n",
    "x_length = len(X)\n",
    "y_length = len(Y)\n"
   ]
  },
  {
   "cell_type": "code",
   "execution_count": 2,
   "metadata": {},
   "outputs": [],
   "source": [
    "from math import acos\n",
    "import math\n",
    "\n",
    "pi=round(2*acos(0.0), 3)\n",
    "\n",
    "def translate_data(X):\n",
    "    X_translated =[]\n",
    "    for face in X:\n",
    "        mean = np.mean(face,axis=0)\n",
    "        print(mean)\n",
    "        translated_face = face - mean\n",
    "        X_translated.append(translated_face)\n",
    "    return X_translated\n",
    "\n",
    "def rotate_data(X, axis='x'):\n",
    "    sin_angle = math.sin(pi) #0\n",
    "    cos_angle = math.cos(pi) #-1\n",
    "    rotated_X=[]\n",
    "    rotated_face = []\n",
    "    if axis=='x':\n",
    "        for face in X:\n",
    "            for point in face:\n",
    "                rotated_face.append([point[0], cos_angle * point[1] - sin_angle * point[2], sin_angle * point[1] + cos_angle * point[2]])\n",
    "            rotated_X.append(rotated_face)\n",
    "    if axis=='y':\n",
    "        for face in X:\n",
    "            for point in face:\n",
    "                rotated_face.append([cos_angle * point[0] + sin_angle * point[2], point[1], -sin_angle * point[0] + cos_angle * point[2]])\n",
    "            rotated_X.append(rotated_face)\n",
    "    if axis=='z':\n",
    "        for face in X:\n",
    "            for point in face:\n",
    "                rotated_face.append([cos_angle * point[0] - sin_angle * point[1], sin_angle * point[0] + cos_angle * point[1], point[2]])\n",
    "            rotated_X.append(rotated_face)\n",
    "    else:\n",
    "        raise ValueError(\"Axis must be 'x', 'y', or 'z'\")\n",
    "    \n",
    "    return rotated_X\n"
   ]
  },
  {
   "cell_type": "code",
   "execution_count": 3,
   "metadata": {},
   "outputs": [],
   "source": [
    "from sklearn.model_selection import StratifiedKFold\n",
    "from sklearn.ensemble import RandomForestClassifier\n",
    "from sklearn.svm import SVC\n",
    "from sklearn.tree import DecisionTreeClassifier\n",
    "\n",
    "def classification(X,Y, classifier_type='RF'):\n",
    "    # Select the classifier\n",
    "    if classifier_type == 'RF':\n",
    "        print(\"RF running\")\n",
    "        clf = RandomForestClassifier()\n",
    "    elif classifier_type == 'SVM':\n",
    "        clf = SVC()\n",
    "    elif classifier_type == 'TREE':\n",
    "        clf = DecisionTreeClassifier()\n",
    "\n",
    "  # Define the scoring metrics\n",
    "    scoring = ['accuracy', 'precision_macro', 'recall_macro']\n",
    "    Y_pred = []\n",
    "    test_indices = []\n",
    "    cv = StratifiedKFold(n_splits=10)\n",
    "    for (train,test) in cv.split(X,Y):\n",
    "        # print(train,test)\n",
    "        # print(len(train),len(test))\n",
    "        # print(X[train],Y[train])\n",
    "        clf.fit(X[train],Y[train])\n",
    "        Y_pred.append(clf.predict(X[test]))\n",
    "        test_indices.append(test)\n",
    "    \n",
    "    return Y,Y_pred,test_indices\n",
    "    # scores = cross_validate(clf, data, labels, cv=cv, scoring=scoring, return_train_score=False)\n",
    "\n",
    "    # # Since cross_validate returns a dictionary, you can process it however you need.\n",
    "    # # For example, to print the mean scores:\n",
    "    # for score_name, score_values in scores.items():\n",
    "    #     print(f\"{score_name}: {np.mean(score_values)}\")\n",
    "\n",
    "    # return scores"
   ]
  },
  {
   "cell_type": "code",
   "execution_count": 4,
   "metadata": {},
   "outputs": [
    {
     "name": "stdout",
     "output_type": "stream",
     "text": [
      "RF running\n"
     ]
    }
   ],
   "source": [
    "y_original,y_prediction,testi = classification(np.array(X),np.array(Y),'RF')"
   ]
  },
  {
   "cell_type": "code",
   "execution_count": 5,
   "metadata": {},
   "outputs": [],
   "source": [
    "from sklearn.metrics import make_scorer, accuracy_score, precision_score, recall_score, confusion_matrix\n",
    "from sklearn.model_selection import cross_val_score\n",
    "\n",
    "def PrintEvalMetrics(pred, indices, y):\n",
    "    finalPredictions = []\n",
    "    groundTruth = []\n",
    "    for p in pred:\n",
    "        finalPredictions.extend(p)\n",
    "    for i in indices:\n",
    "        groundTruth.extend(y[i])\n",
    "    print(confusion_matrix(finalPredictions, groundTruth))\n",
    "    print(\"Precision: \", precision_score(groundTruth, finalPredictions, average='macro'))\n",
    "    print(\"Recall: \", recall_score(groundTruth, finalPredictions, average='macro'))\n",
    "    print(\"Accuracy: \" , accuracy_score(groundTruth, finalPredictions))"
   ]
  },
  {
   "cell_type": "code",
   "execution_count": 6,
   "metadata": {},
   "outputs": [
    {
     "name": "stdout",
     "output_type": "stream",
     "text": [
      "[[4556 2183 1479 1625 3065  638]\n",
      " [1398 3372 1753  836 1103  811]\n",
      " [ 692 1230 1847 1290 1324  691]\n",
      " [ 524  882 1130 4081  509  369]\n",
      " [1335  657  791  519 2476  769]\n",
      " [1619 1847 3044 1622 1665 6780]]\n",
      "Precision:  0.3821256707478118\n",
      "Recall:  0.38214498243886913\n",
      "Accuracy:  0.3819407720782655\n"
     ]
    }
   ],
   "source": [
    "PrintEvalMetrics(y_prediction,testi,y_original)"
   ]
  },
  {
   "cell_type": "code",
   "execution_count": null,
   "metadata": {},
   "outputs": [],
   "source": []
  }
 ],
 "metadata": {
  "kernelspec": {
   "display_name": "Python 3",
   "language": "python",
   "name": "python3"
  },
  "language_info": {
   "codemirror_mode": {
    "name": "ipython",
    "version": 3
   },
   "file_extension": ".py",
   "mimetype": "text/x-python",
   "name": "python",
   "nbconvert_exporter": "python",
   "pygments_lexer": "ipython3",
   "version": "3.11.8"
  }
 },
 "nbformat": 4,
 "nbformat_minor": 2
}
